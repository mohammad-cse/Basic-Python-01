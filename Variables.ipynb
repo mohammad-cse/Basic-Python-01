{
 "cells": [
  {
   "cell_type": "markdown",
   "id": "060e4ba8",
   "metadata": {},
   "source": [
    "### 1. Write a program that swaps the values of two variables."
   ]
  },
  {
   "cell_type": "code",
   "execution_count": 9,
   "id": "45f7d32b",
   "metadata": {},
   "outputs": [
    {
     "name": "stdout",
     "output_type": "stream",
     "text": [
      "Enter num1: 3\n",
      "Enter num2: 2\n",
      "Before swapping:\n",
      "Num1 = 3\n",
      "Num2 = 2\n",
      "After swapping:\n",
      "va1 = 2\n",
      "var2 = 3\n"
     ]
    }
   ],
   "source": [
    "# Enter input\n",
    "num1=int(input(\"Enter num1: \"))\n",
    "num2=int(input(\"Enter num2: \"))\n",
    "print(\"Before swapping:\")\n",
    "print(\"Num1 =\", num1)\n",
    "print(\"Num2 =\", num2)\n",
    "\n",
    "# Swapping logic\n",
    "temp=num1\n",
    "num1=num2 \n",
    "num2=temp\n",
    "\n",
    "print(\"After swapping:\")\n",
    "print(\"num1 =\", num1)\n",
    "print(\"num2 =\", num2)"
   ]
  },
  {
   "cell_type": "markdown",
   "id": "507ca7eb",
   "metadata": {},
   "source": [
    "### 2. Write a program that calculates the area of a rectangle given its length and width."
   ]
  },
  {
   "cell_type": "markdown",
   "id": "fda1fc94",
   "metadata": {},
   "source": [
    "$$\\text{The area of a rectangle:}$$\n",
    "![dfv](rectangle.svg)"
   ]
  },
  {
   "cell_type": "markdown",
   "id": "8cae4c5f",
   "metadata": {},
   "source": [
    "\\begin{align}\n",
    "\\text{Area} & = \\text{length}\\times\\text{width} \\\\\n",
    " & =6\\times2 \\\\ \n",
    " & = 12\\text{ square units}\n",
    "\\end{align}\n"
   ]
  },
  {
   "cell_type": "code",
   "execution_count": 13,
   "id": "9d4cdaf9",
   "metadata": {},
   "outputs": [
    {
     "name": "stdout",
     "output_type": "stream",
     "text": [
      "Enter length: 3\n",
      "Enter width: 4.4\n",
      "Area = 13.200000000000001\n"
     ]
    }
   ],
   "source": [
    "def rectangle(length, width):\n",
    "    return length * width\n",
    "\n",
    "# Test the function\n",
    "length = float(input(\"Enter length: \"))\n",
    "width = float(input(\"Enter width: \"))\n",
    "print(\"Area =\", rectangle(length, width))\n"
   ]
  },
  {
   "cell_type": "markdown",
   "id": "2028e56a",
   "metadata": {},
   "source": [
    "### 3. Write a program that converts temperature from Fahrenheit to Celsius."
   ]
  },
  {
   "cell_type": "markdown",
   "id": "efc40f90",
   "metadata": {},
   "source": [
    "\n",
    "\\begin{array}{ll}\n",
    "\\text{The Fahrenheit to Celsius formula:} & \\text{Celsius} = (5/9) * (\\text{Fahrenheit}-32)\n",
    "\\end{array}"
   ]
  },
  {
   "cell_type": "code",
   "execution_count": 15,
   "id": "db77ec95",
   "metadata": {},
   "outputs": [
    {
     "name": "stdout",
     "output_type": "stream",
     "text": [
      "Enter fahrenheit: 34\n",
      "celsius = 1.1111111111111112\n"
     ]
    }
   ],
   "source": [
    "def celsius(fahrenheit):\n",
    "    return (fahrenheit - 32) * 5/9\n",
    "\n",
    "# Test the function\n",
    "fahrenheit = float(input(\"Enter fahrenheit: \"))\n",
    "print(\"celsius =\",celsius(fahrenheit))"
   ]
  },
  {
   "cell_type": "markdown",
   "id": "5dfffb00",
   "metadata": {},
   "source": [
    "### 4. Write a program that calculates the volume of a sphere given its radius."
   ]
  },
  {
   "cell_type": "markdown",
   "id": "05019953",
   "metadata": {},
   "source": [
    "$$\\text{The formula for the volume of a sphere:}$$"
   ]
  },
  {
   "cell_type": "markdown",
   "id": "85effc86",
   "metadata": {},
   "source": [
    "<img src=\"ssphere.png\" alt=\"sphere\" width=\"300\"/>"
   ]
  },
  {
   "cell_type": "code",
   "execution_count": 22,
   "id": "58733c62",
   "metadata": {},
   "outputs": [
    {
     "name": "stdout",
     "output_type": "stream",
     "text": [
      "Enter radius: 3\n",
      "Volume of sphere: 113.09733552923254\n"
     ]
    }
   ],
   "source": [
    "import math\n",
    "def volume(radius):\n",
    "    return (4/3) * math.pi * radius**3\n",
    "\n",
    "# Test the function\n",
    "radius = float(input(\"Enter radius: \"))\n",
    "print(\"Volume of sphere:\",volume(radius))\n"
   ]
  },
  {
   "cell_type": "markdown",
   "id": "6b0bcc85",
   "metadata": {},
   "source": [
    "### 5. Write a program that finds the average of three numbers."
   ]
  },
  {
   "cell_type": "code",
   "execution_count": 27,
   "id": "0fd876c5",
   "metadata": {},
   "outputs": [
    {
     "name": "stdout",
     "output_type": "stream",
     "text": [
      "Enter num1: 2.3\n",
      "Enter num2: 4.3\n",
      "Enter num3: 5.6\n",
      "Average of three numbers: 4.066666666666666\n"
     ]
    }
   ],
   "source": [
    "def average(num1, num2, num3):\n",
    "    return sum((num1, num2, num3)) / 3\n",
    "\n",
    "# Test the function\n",
    "num1=float(input(\"Enter num1: \"))\n",
    "num2=float(input(\"Enter num2: \"))\n",
    "num3=float(input(\"Enter num3: \"))\n",
    "print(\"Average of three numbers:\", average(num1, num2, num3))\n"
   ]
  }
 ],
 "metadata": {
  "kernelspec": {
   "display_name": "Python 3 (ipykernel)",
   "language": "python",
   "name": "python3"
  },
  "language_info": {
   "codemirror_mode": {
    "name": "ipython",
    "version": 3
   },
   "file_extension": ".py",
   "mimetype": "text/x-python",
   "name": "python",
   "nbconvert_exporter": "python",
   "pygments_lexer": "ipython3",
   "version": "3.11.5"
  }
 },
 "nbformat": 4,
 "nbformat_minor": 5
}
