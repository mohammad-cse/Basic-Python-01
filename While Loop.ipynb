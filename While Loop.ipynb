{
 "cells": [
  {
   "cell_type": "markdown",
   "id": "c9664d7d",
   "metadata": {},
   "source": [
    "### 16. Write a program that finds the sum of all even numbers between 1 and `n`."
   ]
  },
  {
   "cell_type": "code",
   "execution_count": 5,
   "id": "6fd12ede",
   "metadata": {},
   "outputs": [
    {
     "name": "stdout",
     "output_type": "stream",
     "text": [
      "Enter a number: 5\n",
      "Sum of all even numbers from 1 to 5 is: 6\n"
     ]
    }
   ],
   "source": [
    "def sum_of_even(n):\n",
    "    \n",
    "    sum = 0\n",
    "    i = 2 # Starting from even\n",
    "    while i <= n:\n",
    "        sum += i\n",
    "        i += 2  # Increment i by 2 to get the next even number\n",
    "    return sum\n",
    "\n",
    "# Test the function\n",
    "n = int(input(\"Enter a number: \"))\n",
    "print(\"Sum of all even numbers from 1 to {} is:\".format(n), sum_of_even(n))\n"
   ]
  },
  {
   "cell_type": "markdown",
   "id": "87e37b1f",
   "metadata": {},
   "source": [
    "### 17. Write a program that reverses a given number."
   ]
  },
  {
   "cell_type": "markdown",
   "id": "1685149d",
   "metadata": {},
   "source": [
    "$$\\text{Explaination the process of reversing the number 2342}$$\n",
    "\n",
    " |  $$ n$$   | $$ a $$  |  $$rev$$  |    $$Operation$$    |\n",
    "|-------|------------------|-------------------------|-----------------|\n",
    "|  2342 |        2         |           2             | $$rev = 0 * 10 + 2$$ |\n",
    "|  234  |                  |                         | $$n = 234 // 10 $$  |\n",
    "|  234  |        4         |          24             | $$rev = 2 * 10 + 4$$ |\n",
    "|  23   |                  |                         | $$n = 23 // 10  $$  |\n",
    "|  23   |        3         |         243             |$$ rev = 24 * 10 + 3$$|\n",
    "|  2    |                  |                         |$$ n = 2 // 10   $$  |\n",
    "|   2   |        2         |        2432             | $$rev = 243 * 10 + 2$$|\n",
    "|   0   |                  |                         | $$n = 0 // 10  $$   |\n",
    "\n"
   ]
  },
  {
   "cell_type": "code",
   "execution_count": 18,
   "id": "04ae795f",
   "metadata": {},
   "outputs": [
    {
     "name": "stdout",
     "output_type": "stream",
     "text": [
      "Enter a number: 2342\n",
      "Reversed number: 2432\n"
     ]
    }
   ],
   "source": [
    "def reverse(n):\n",
    "    rev = 0\n",
    "    while(n > 0): \n",
    "        a = n % 10\n",
    "        rev = rev * 10 + a \n",
    "        n = n // 10  #Returns the integer part\n",
    "    return rev\n",
    "\n",
    "# Test the function\n",
    "n = int(input(\"Enter a number: \"))\n",
    "print(\"Reversed number:\", reverse(n))\n"
   ]
  },
  {
   "cell_type": "markdown",
   "id": "4f12f07b",
   "metadata": {},
   "source": [
    "### 18. Write a program that checks if a given string, is a palindrome."
   ]
  },
  {
   "cell_type": "markdown",
   "id": "4ed4cb56",
   "metadata": {},
   "source": [
    "$$\\text{“madam” is a palindromic string because it reads the same forwards and backward.}$$\n",
    "$$\\text{Other palindromic strings are “anna,” “civic,” “level,” “mom,” “noon,” and “racecar.”}$$\n",
    "\n"
   ]
  },
  {
   "cell_type": "code",
   "execution_count": null,
   "id": "c878c4d1",
   "metadata": {},
   "outputs": [],
   "source": [
    "def is_palindrome(s):\n",
    "    i = 0\n",
    "    while i < len(s)//2: # Run loop from 0 to len/2\n",
    "        if s[i] != s[len(s)-i-1]:\n",
    "            return False\n",
    "        i += 1\n",
    "    return True\n",
    "\n",
    "# Test the function\n",
    "s = input(\"Enter a string: \")\n",
    "\n",
    "if is_palindrome(s):\n",
    "    print(\"Yes\")\n",
    "else:\n",
    "    print(\"No\")\n"
   ]
  },
  {
   "cell_type": "markdown",
   "id": "1bb66362",
   "metadata": {},
   "source": [
    "### 19. Write a program that generates a random number and allows the user to guess it."
   ]
  },
  {
   "cell_type": "code",
   "execution_count": null,
   "id": "dd4966cf",
   "metadata": {},
   "outputs": [],
   "source": [
    "## import random\n",
    "n = random.randrange(1,10)\n",
    "guess = int(input(\"Enter any number: \"))\n",
    "while n!= guess:\n",
    "    if guess < n:\n",
    "        print(\"Too low\")\n",
    "        guess = int(input(\"Enter number again: \"))\n",
    "    elif guess > n:\n",
    "        print(\"Too high!\")\n",
    "        guess = int(input(\"Enter number again: \"))\n",
    "    else:\n",
    "      break\n",
    "print(\"you guessed it right!!\")"
   ]
  },
  {
   "cell_type": "markdown",
   "id": "6c336c68",
   "metadata": {},
   "source": [
    "### 20. Write a program that finds the greatest common divisor (GCD) of two numbers."
   ]
  },
  {
   "cell_type": "markdown",
   "id": "7018b49a",
   "metadata": {},
   "source": [
    "How to calculate GCD in programing? </br>\n",
    "Let,\n",
    " - Prime Factorization of $a$ is $12=2^{2}\\times{3}$\n",
    " - Prime Factorization of $b$ is $18=2\\times{3^{2}}$\n",
    "\n",
    "GCD $=2\\times{3}=6$ $|$$\\textrm{Extract minimum power}$\n",
    "        </br>\n",
    "LCD $=2^{2}\\times{3^{2}}=36$ $|$$\\textrm{Extract maximum power}$\n",
    "        \n",
    "\n",
    "We can see that,\n",
    "$$\\begin{align}\n",
    "\\frac{2^{2}\\times{3}\\times{2}\\times{3^{2}}}{2\\times{3}}=36\\phantom{0000000000000000000}\\\\ \\\\\n",
    "\\therefore\\boxed{\\frac{a\\times{b}}{\\textrm{GCD}}=\\textrm{LCD}}\\phantom{0000000000000000}\\\\\n",
    "\\end{align}$$\n",
    "###### Euclid Algorithm for finding GCD:\n",
    "\n",
    "$$\\require{enclose}\n",
    "\\begin{array}{r}\n",
    "a=12 \\ \\ and\\ \\  b=18 & Explaination: \\\\[-3pt]\n",
    "                \\\\[-3pt]\n",
    "                1\\phantom{0000000000} \\\\[-3pt]\n",
    "\\color{maroon}{12} \\enclose{longdiv}{18} \\phantom{000000000}\\\\[-3pt]\n",
    "     \\underline{12}\\ \\ 2\\phantom{0000000}\\  \\\\[-3pt]\n",
    "\\phantom{000}\\color{red}{6}\\enclose{longdiv}{12}\\phantom{000000}\\\\[-3pt]\n",
    "\\underline{12}\\phantom{000000}\\ \\\\[-3pt]\n",
    "{\\color{red}{0}}\\phantom{000000}\\ \\\\[-3pt]\n",
    "\\end{array}$$"
   ]
  },
  {
   "cell_type": "code",
   "execution_count": 4,
   "id": "176fbfbd",
   "metadata": {},
   "outputs": [
    {
     "name": "stdout",
     "output_type": "stream",
     "text": [
      "Enter first number: 12\n",
      "Enter second number: 18\n",
      "GCD: 6\n"
     ]
    }
   ],
   "source": [
    "def gcd(a, b):\n",
    "    while b!=0:\n",
    "        a, b = b, a % b \n",
    "    return a\n",
    "\n",
    "a = int(input(\"Enter first number: \"))\n",
    "b = int(input(\"Enter second number: \"))\n",
    "print(\"GCD:\", gcd(a, b))\n"
   ]
  }
 ],
 "metadata": {
  "kernelspec": {
   "display_name": "Python 3 (ipykernel)",
   "language": "python",
   "name": "python3"
  },
  "language_info": {
   "codemirror_mode": {
    "name": "ipython",
    "version": 3
   },
   "file_extension": ".py",
   "mimetype": "text/x-python",
   "name": "python",
   "nbconvert_exporter": "python",
   "pygments_lexer": "ipython3",
   "version": "3.11.5"
  }
 },
 "nbformat": 4,
 "nbformat_minor": 5
}
