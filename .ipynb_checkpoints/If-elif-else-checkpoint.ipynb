{
 "cells": [
  {
   "cell_type": "markdown",
   "id": "76461301",
   "metadata": {},
   "source": [
    "### 6. Write a program that determines if a number is even or odd."
   ]
  },
  {
   "cell_type": "markdown",
   "id": "a8cb6917",
   "metadata": {},
   "source": [
    "$$\\text{A number is even if, when divided by two, the remainder is 0. A number is odd if, when divided by 2, the remainder is 1.}$$"
   ]
  },
  {
   "cell_type": "code",
   "execution_count": 3,
   "id": "0bc1b8ab",
   "metadata": {},
   "outputs": [
    {
     "name": "stdout",
     "output_type": "stream",
     "text": [
      "Enter num: 789\n",
      "789 is odd.\n"
     ]
    }
   ],
   "source": [
    "def evenOdd(num):\n",
    "    if num % 2 == 0:\n",
    "        print(\"{} is even.\".format(num))\n",
    "    else:\n",
    "        print(\"{} is odd.\".format(num))\n",
    "\n",
    "# Test the function\n",
    "num = int(input(\"Enter num: \"))\n",
    "evenOdd(num)"
   ]
  },
  {
   "cell_type": "markdown",
   "id": "c1f750e1",
   "metadata": {},
   "source": [
    "### 7. Write a program that finds the maximum of three numbers.}"
   ]
  },
  {
   "cell_type": "code",
   "execution_count": 4,
   "id": "e294a3bc",
   "metadata": {},
   "outputs": [
    {
     "name": "stdout",
     "output_type": "stream",
     "text": [
      "Enter num1: 4\n",
      "Enter num2: 3\n",
      "Enter num3: 6\n",
      "Maximum of three numbers: 6\n"
     ]
    }
   ],
   "source": [
    "def maximum(num1, num2, num3):\n",
    "    return max(num1, num2, num3)\n",
    "\n",
    "# Test the function\n",
    "num1=int(input(\"Enter num1: \"))\n",
    "num2=int(input(\"Enter num2: \"))\n",
    "num3=int(input(\"Enter num3: \"))\n",
    "print(\"Maximum of three numbers:\", maximum(num1, num2, num3))"
   ]
  },
  {
   "cell_type": "markdown",
   "id": "e393de40",
   "metadata": {},
   "source": [
    "### 8. Write a program that determines if a year is a leap year or not."
   ]
  },
  {
   "cell_type": "markdown",
   "id": "4be33a67",
   "metadata": {},
   "source": [
    "\n",
    "$\\text{A year is a leap year if the following conditions are satisfied:}$\n",
    "\n",
    "\\begin{array}{ll}\n",
    " \\bullet \\: \\text{The year is multiple of 400.}  & \\\\\n",
    " \\bullet \\: \\text{The year is a multiple of 4 and not a multiple of 100.}\n",
    "\\end{array}"
   ]
  },
  {
   "cell_type": "code",
   "execution_count": null,
   "id": "3c71d96a",
   "metadata": {},
   "outputs": [],
   "source": [
    "def leap(year):\n",
    "    if (year % 400 == 0) or (year % 4 == 0 and year % 100 != 0):\n",
    "        print(\"{} is a leap year.\".format(year))\n",
    "    else:\n",
    "        print(\"{} is not a leap year.\".format(year))\n",
    "\n",
    "# Test the function\n",
    "year = int(input(\"Enter an year: \"))\n",
    "leap(year)"
   ]
  },
  {
   "cell_type": "markdown",
   "id": "6f6acbe8",
   "metadata": {},
   "source": [
    "### 9. Write a program that determines if a number is positive, negative, or zero."
   ]
  },
  {
   "cell_type": "code",
   "execution_count": null,
   "id": "da0e4e78",
   "metadata": {},
   "outputs": [],
   "source": [
    "def checkPNZ(num):\n",
    "    if num > 0:\n",
    "        print(\"{} is positive.\".format(year))\n",
    "    elif num < 0:\n",
    "        print(\"{} is negative.\".format(year))\n",
    "    else:\n",
    "        print(\"The number is zero.\"\n",
    "\n",
    "# Test the function\n",
    "num = int(input(\"Enter num: \"))\n",
    "checkPNZ(num)"
   ]
  },
  {
   "cell_type": "markdown",
   "id": "1875e42d",
   "metadata": {},
   "source": [
    "### 10. Write a program that calculates the grade based on a given percentage."
   ]
  },
  {
   "cell_type": "code",
   "execution_count": null,
   "id": "b3e2dd15",
   "metadata": {},
   "outputs": [],
   "source": [
    "\n",
    "def grade(percentage):\n",
    "    if percentage >= 90:\n",
    "        return \"Grade A\"\n",
    "    elif percentage >= 80:\n",
    "        return \"Grade B\"\n",
    "    elif percentage >= 70:\n",
    "        return \"Grade C\"\n",
    "    elif percentage >= 60:\n",
    "        return \"Grade D\"\n",
    "    else:\n",
    "        return \"Grade F\"\n",
    "\n",
    "# Test the function\n",
    "percentage = int(input(\"Input marks of five subjects: \"))\n",
    "grade(percentage)\n"
   ]
  },
  {
   "cell_type": "code",
   "execution_count": null,
   "id": "2030a404",
   "metadata": {},
   "outputs": [],
   "source": []
  }
 ],
 "metadata": {
  "kernelspec": {
   "display_name": "Python 3 (ipykernel)",
   "language": "python",
   "name": "python3"
  },
  "language_info": {
   "codemirror_mode": {
    "name": "ipython",
    "version": 3
   },
   "file_extension": ".py",
   "mimetype": "text/x-python",
   "name": "python",
   "nbconvert_exporter": "python",
   "pygments_lexer": "ipython3",
   "version": "3.11.5"
  }
 },
 "nbformat": 4,
 "nbformat_minor": 5
}
