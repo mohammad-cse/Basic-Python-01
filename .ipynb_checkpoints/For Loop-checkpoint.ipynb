{
 "cells": [
  {
   "cell_type": "markdown",
   "id": "07e89b1b",
   "metadata": {},
   "source": [
    "### 11. Write a program that prints the first `n` natural numbers."
   ]
  },
  {
   "cell_type": "code",
   "execution_count": 9,
   "id": "71bf09d7",
   "metadata": {},
   "outputs": [
    {
     "name": "stdout",
     "output_type": "stream",
     "text": [
      "Enter number: 7\n",
      "The first n natural numbers:\n",
      "1 2 3 4 5 6 7 "
     ]
    }
   ],
   "source": [
    "def natural_num(n):\n",
    "    for i in range(1, n + 1):\n",
    "        print(i, end=' ')\n",
    "\n",
    "# Test the function\n",
    "n = int(input(\"Enter number: \"))\n",
    "print(\"The first n natural numbers:\")\n",
    "natural_num(n)"
   ]
  },
  {
   "cell_type": "markdown",
   "id": "561a91de",
   "metadata": {},
   "source": [
    "### 12. Write a program that calculates the factorial of a number."
   ]
  },
  {
   "cell_type": "markdown",
   "id": "a2732bbd",
   "metadata": {},
   "source": [
    "|n Factorial|$$n (n - 1) (n - 2) ....1$$\t|$$n! = n × (n - 1)!$$\t|Result|\n",
    "|-------|-------|------|-----|\n",
    "|1 Factorial|\t1\t|1\t|1|\n",
    "2 Factorial|\t2 × 1|\t= 2 × 1!|\t= 2|\n",
    "3 Factorial\t|3 × 2 × 1\t|= 3 × 2!|\t= 6\n",
    "4 Factorial\t|4 × 3 × 2 × 1|\t= 4 × 3!\t|= 24|\n",
    "5 Factorial\t|5 × 4 × 3 × 2 × 1\t|= 5 × 4!\t|= 120|"
   ]
  },
  {
   "cell_type": "code",
   "execution_count": 19,
   "id": "92a7a8e6",
   "metadata": {},
   "outputs": [
    {
     "name": "stdout",
     "output_type": "stream",
     "text": [
      "Enter number: 5\n",
      "5!= 120\n"
     ]
    }
   ],
   "source": [
    "def factorial(n):\n",
    "    result = 1\n",
    "    for i in range(1, n + 1):\n",
    "        result *= i\n",
    "    return result\n",
    "\n",
    "# Test the function\n",
    "num = int(input(\"Enter number: \"))\n",
    "print(\"{}!=\".format(num),factorial(num))\n"
   ]
  },
  {
   "cell_type": "markdown",
   "id": "8400bbdf",
   "metadata": {},
   "source": [
    "### 13. Write a program that generates a Fibonacci sequence of length `n`."
   ]
  },
  {
   "cell_type": "markdown",
   "id": "7622eecd",
   "metadata": {},
   "source": [
    "$$\\text{Fibonacci Formula }:F_n=F_{n-1}+F_{n-2},  \\text{where n}>1$$\n",
    "\n",
    "\n",
    "|$$n$$|Term|$$F_n = F_{n-1} + F_{n-2}$$|\n",
    "|-------|------|-----|\n",
    "|0 |First|F0=0|\n",
    "|1 |Second|F1=1|\n",
    "|2 |Third|F2=0+1=1|\n",
    "|3 |Fourth|F3=1+1=2|\n",
    "|4|Fifth|F4=2+1=3|\n",
    "|5|Sixth|F5=3+1=4|"
   ]
  },
  {
   "cell_type": "code",
   "execution_count": 8,
   "id": "55191198",
   "metadata": {},
   "outputs": [
    {
     "name": "stdout",
     "output_type": "stream",
     "text": [
      "Enter number: 5\n",
      "Fibonacci sequence of length 5: 0 1 1 2 3 "
     ]
    }
   ],
   "source": [
    "def fibonacci(n):\n",
    "    if n <= 1:\n",
    "        return n\n",
    "    else:\n",
    "        return fibonacci(n-1) + fibonacci(n-2)\n",
    "\n",
    "# Test the function\n",
    "num = int(input(\"Enter number: \"))\n",
    "print(\"Fibonacci sequence of length {}:\".format(num),end=\" \")\n",
    "for i in range(num):\n",
    "    print(fibonacci(i),end=\" \")\n"
   ]
  },
  {
   "cell_type": "markdown",
   "id": "00662279",
   "metadata": {},
   "source": [
    "### 14. Write a program that checks if a given number is prime or not."
   ]
  },
  {
   "cell_type": "markdown",
   "id": "3bb6cc1f",
   "metadata": {},
   "source": [
    "A prime number is a natural number greater than 1 that is completely divisible only by 1 and itself. "
   ]
  },
  {
   "cell_type": "code",
   "execution_count": null,
   "id": "a9bf2b05",
   "metadata": {},
   "outputs": [],
   "source": [
    "def primeCheck(n):\n",
    "    if n <= 1:\n",
    "        return False\n",
    "    \n",
    "    for i in range(2, int(n/2) + 1):\n",
    "        if n % i == 0:\n",
    "            return False\n",
    "        \n",
    "    return True\n",
    "\n",
    "# Test the function\n",
    "num = int(input(\"Enter a number: \"))\n",
    "if primeCheck(num):\n",
    "    print(\"The number is prime\")\n",
    "else:\n",
    "    print(\"The number is not prime\")\n"
   ]
  },
  {
   "cell_type": "markdown",
   "id": "b0d8bcb6",
   "metadata": {},
   "source": [
    "### 15. Write a program that prints the multiplication table of a given number."
   ]
  },
  {
   "cell_type": "code",
   "execution_count": null,
   "id": "a21e2a5e",
   "metadata": {},
   "outputs": [],
   "source": [
    "def multiplication(num):\n",
    "    for i in range(1, 11):\n",
    "        print(\"{num} x {i} = {num*i}\".format(num))\n",
    "\n",
    "# Test the function\n",
    "num = int(input(\"Enter a number: \"))\n",
    "multiplication(num)\n"
   ]
  },
  {
   "cell_type": "markdown",
   "id": "9f8b3dad",
   "metadata": {},
   "source": [
    "|Multiplication|Result|\n",
    "|----|----|\n",
    "|5 * 1 | = 5|\n",
    "|5 * 2 | = 10|\n",
    "|5 * 3 | = 15|\n",
    "|5 * 4 | = 20|\n",
    "|5 * 5  |= 25|\n",
    "|5 * 6  |= 30|\n",
    "|5 * 7  |= 35|\n",
    "|5 * 8  |= 40|\n",
    "|5 * 9  |= 45|\n",
    "|5 * 10 |= 50|"
   ]
  },
  {
   "cell_type": "code",
   "execution_count": null,
   "id": "68f6b54a",
   "metadata": {},
   "outputs": [],
   "source": [
    "for i in range(1,11)\n",
    "print(i)"
   ]
  },
  {
   "cell_type": "code",
   "execution_count": null,
   "id": "9f02d96a",
   "metadata": {},
   "outputs": [],
   "source": []
  }
 ],
 "metadata": {
  "kernelspec": {
   "display_name": "Python 3 (ipykernel)",
   "language": "python",
   "name": "python3"
  },
  "language_info": {
   "codemirror_mode": {
    "name": "ipython",
    "version": 3
   },
   "file_extension": ".py",
   "mimetype": "text/x-python",
   "name": "python",
   "nbconvert_exporter": "python",
   "pygments_lexer": "ipython3",
   "version": "3.11.5"
  }
 },
 "nbformat": 4,
 "nbformat_minor": 5
}
